{
  "nbformat": 4,
  "nbformat_minor": 0,
  "metadata": {
    "colab": {
      "provenance": [],
      "authorship_tag": "ABX9TyNXG0XomJBZYIGaDjkYqrj5",
      "include_colab_link": true
    },
    "kernelspec": {
      "name": "python3",
      "display_name": "Python 3"
    },
    "language_info": {
      "name": "python"
    }
  },
  "cells": [
    {
      "cell_type": "markdown",
      "metadata": {
        "id": "view-in-github",
        "colab_type": "text"
      },
      "source": [
        "<a href=\"https://colab.research.google.com/github/adityA-PCE/python-all-week-assignments/blob/main/python_week_2.ipynb\" target=\"_parent\"><img src=\"https://colab.research.google.com/assets/colab-badge.svg\" alt=\"Open In Colab\"/></a>"
      ]
    },
    {
      "cell_type": "code",
      "source": [
        "#1 Create a function that takes three integer arguments (a, b, c) and returns the amount of integers which are of equal value.\n",
        "\n",
        "def num(x,y,z,) :\n",
        "  if x == y and x == z:\n",
        "    return 3\n",
        "  elif x==y or x==z:\n",
        "    return 2\n",
        "  else:\n",
        "    return 0\n",
        "print(num(2,1,3))"
      ],
      "metadata": {
        "colab": {
          "base_uri": "https://localhost:8080/"
        },
        "id": "zyg7Ntmq7xoa",
        "outputId": "5319bb88-32fa-4bbc-a09b-3fdfd8acfdd5"
      },
      "execution_count": null,
      "outputs": [
        {
          "output_type": "stream",
          "name": "stdout",
          "text": [
            "0\n"
          ]
        }
      ]
    },
    {
      "cell_type": "code",
      "source": [
        "#2 Write a function that converts a dictionary into a list of keys-values tuples.\n",
        "dict = { 'aditya': 18, 'arshad': 21, 'hadi': 23 }\n",
        "list = [(a, b) for a, b in dict.items()]\n",
        "print(sorted(list))"
      ],
      "metadata": {
        "colab": {
          "base_uri": "https://localhost:8080/"
        },
        "id": "Fzw4zseF79aD",
        "outputId": "056cf90f-f11e-408e-a038-fcc499069c26"
      },
      "execution_count": null,
      "outputs": [
        {
          "output_type": "stream",
          "name": "stdout",
          "text": [
            "[('aditya', 18), ('arshad', 21), ('hadi', 23)]\n"
          ]
        }
      ]
    },
    {
      "cell_type": "code",
      "source": [
        "#3 Write a function that creates a dictionary with each (key, value) pair being the (lower case, upper case) versions of a letter, respectively.\n",
        "list = ['r','g','h','s','g','h']\n",
        "a = {}\n",
        "\n",
        "for letters in list:\n",
        "  b = letters.upper()\n",
        "  a.update({letters:b})\n",
        "print(a)"
      ],
      "metadata": {
        "colab": {
          "base_uri": "https://localhost:8080/"
        },
        "id": "boR2XpVw8GhY",
        "outputId": "c4cbd023-898e-4305-ae7c-a76129d166d5"
      },
      "execution_count": null,
      "outputs": [
        {
          "output_type": "stream",
          "name": "stdout",
          "text": [
            "{'r': 'R', 'g': 'G', 'h': 'H', 's': 'S'}\n"
          ]
        }
      ]
    },
    {
      "cell_type": "code",
      "source": [
        "#4 Write a function, that replaces all vowels in a string with a specified vowel.\n",
        "print(\"Enter the String: \")\n",
        "str = input()\n",
        "\n",
        "print(\"Enter a character: \")\n",
        "char = input()\n",
        "\n",
        "newstr = \"\"\n",
        "for i in range(len(str)):\n",
        "    if str[i]=='a' or str[i]=='e' or str[i]=='i' or str[i]=='o' or str[i]=='u':\n",
        "        newstr = newstr + char\n",
        "    else:\n",
        "        newstr = newstr + str[i]\n",
        "\n",
        "print(\"\\nOriginal String:\", str)\n",
        "print(\"New String:\", newstr)"
      ],
      "metadata": {
        "colab": {
          "base_uri": "https://localhost:8080/"
        },
        "id": "hcCb1q7g8JvN",
        "outputId": "05a1a7ce-8f29-42b7-b732-bc0f6aae2823"
      },
      "execution_count": null,
      "outputs": [
        {
          "output_type": "stream",
          "name": "stdout",
          "text": [
            "Enter the String: \n",
            "aditya\n",
            "Enter a character: \n",
            "b\n",
            "\n",
            "Original String: aditya\n",
            "New String: bdbtyb\n"
          ]
        }
      ]
    },
    {
      "cell_type": "code",
      "source": [
        "#5 Create a function that takes a string as input and capitalizes a letter if its ASCII code is even and returns its lower case version if its ASCII code is odd.\n",
        "def ascii(st):\n",
        "  res=[]\n",
        "  for index, c in enumerate(st):\n",
        "    if index%2==0:\n",
        "      res.append(c.upper())\n",
        "    else:\n",
        "      res.append(c.lower())\n",
        "  return''.join(res)\n",
        "print(ascii(\"aditya\"))"
      ],
      "metadata": {
        "colab": {
          "base_uri": "https://localhost:8080/"
        },
        "id": "quAnZNjf8MEe",
        "outputId": "d19a06c8-dfbd-4aae-8398-9cbab044798b"
      },
      "execution_count": null,
      "outputs": [
        {
          "output_type": "stream",
          "name": "stdout",
          "text": [
            "AdItYa\n"
          ]
        }
      ]
    },
    {
      "cell_type": "code",
      "source": [
        "def my_function():\n",
        "  print(\"welcome a function\")\n",
        "\n",
        "my_function()"
      ],
      "metadata": {
        "colab": {
          "base_uri": "https://localhost:8080/"
        },
        "id": "IbisW2cJ8Ovp",
        "outputId": "cea9528c-de46-4a8e-90c8-11018f11b28d"
      },
      "execution_count": null,
      "outputs": [
        {
          "output_type": "stream",
          "name": "stdout",
          "text": [
            "welcome a function\n"
          ]
        }
      ]
    },
    {
      "cell_type": "code",
      "source": [
        "def my_function(country = \"india\"):\n",
        "  print(\"I am from \" + country)\n",
        "\n",
        "my_function(\"dubai\")\n",
        "my_function(\"korea\")\n",
        "my_function()\n",
        "my_function(\"Brazil\")"
      ],
      "metadata": {
        "colab": {
          "base_uri": "https://localhost:8080/"
        },
        "id": "OqyO-iif8RRT",
        "outputId": "39c0300c-dc77-4578-cb79-07a3726eddec"
      },
      "execution_count": null,
      "outputs": [
        {
          "output_type": "stream",
          "name": "stdout",
          "text": [
            "I am from dubai\n",
            "I am from korea\n",
            "I am from india\n",
            "I am from Brazil\n"
          ]
        }
      ]
    },
    {
      "cell_type": "code",
      "source": [
        "def my_function(food):\n",
        "  for x in food:\n",
        "    print(x)\n",
        "\n",
        "fruits = [\"apple\", \"custard apple\", \"mango\"]\n",
        "\n",
        "my_function(fruits)"
      ],
      "metadata": {
        "colab": {
          "base_uri": "https://localhost:8080/"
        },
        "id": "EpsyY3AF8Tfi",
        "outputId": "4ad0fee0-60fd-40c0-f0aa-cfac0c9a0229"
      },
      "execution_count": null,
      "outputs": [
        {
          "output_type": "stream",
          "name": "stdout",
          "text": [
            "apple\n",
            "custard apple\n",
            "mango\n"
          ]
        }
      ]
    },
    {
      "cell_type": "code",
      "source": [
        "# Python program to convert Celsius to Fahrenheit using function\n",
        "\n",
        "def convertTemp(c):\n",
        "   f = (c * 1.8) + 32\n",
        "   return f\n",
        "    \n",
        "\n",
        "cel = float(input('Enter temperature in Celsius: '))\n",
        "\n",
        "\n",
        "fahr = convertTemp(cel)\n",
        "print('%0.1f degrees Celsius is equivalent to %0.1f degrees Fahrenheit' %(cel, fahr))"
      ],
      "metadata": {
        "colab": {
          "base_uri": "https://localhost:8080/"
        },
        "id": "_63XTrMY8WK1",
        "outputId": "02857743-18c9-47b0-e90e-09ab12ffa1b5"
      },
      "execution_count": null,
      "outputs": [
        {
          "output_type": "stream",
          "name": "stdout",
          "text": [
            "Enter temperature in Celsius: 45\n",
            "45.0 degrees Celsius is equivalent to 113.0 degrees Fahrenheit\n"
          ]
        }
      ]
    },
    {
      "cell_type": "code",
      "source": [
        "def kilometre_1(km):  \n",
        "    conversion_ratio_1= 0.621371  \n",
        "    miles_1 = km * conversion_ratio_1  \n",
        "    print (\"The speed value of car in Miles: \", miles_1)  \n",
        "km = float (input (\"Please enter the speed of car in Kilometre as a unit: \"))  \n",
        "kilometre_1(km)"
      ],
      "metadata": {
        "colab": {
          "base_uri": "https://localhost:8080/"
        },
        "id": "uue_RJ0e8Yr7",
        "outputId": "5d0a6d0d-9227-46c4-c36d-9bf18255b2b7"
      },
      "execution_count": null,
      "outputs": [
        {
          "output_type": "stream",
          "name": "stdout",
          "text": [
            "Please enter the speed of car in Kilometre as a unit: 67\n",
            "The speed value of car in Miles:  41.631857000000004\n"
          ]
        }
      ]
    }
  ]
}