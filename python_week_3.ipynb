{
  "nbformat": 4,
  "nbformat_minor": 0,
  "metadata": {
    "colab": {
      "provenance": [],
      "collapsed_sections": [],
      "include_colab_link": true
    },
    "kernelspec": {
      "name": "python3",
      "display_name": "Python 3"
    },
    "language_info": {
      "name": "python"
    }
  },
  "cells": [
    {
      "cell_type": "markdown",
      "metadata": {
        "id": "view-in-github",
        "colab_type": "text"
      },
      "source": [
        "<a href=\"https://colab.research.google.com/github/adityA-PCE/python-all-week-assignments/blob/main/python_week_3.ipynb\" target=\"_parent\"><img src=\"https://colab.research.google.com/assets/colab-badge.svg\" alt=\"Open In Colab\"/></a>"
      ]
    },
    {
      "cell_type": "code",
      "execution_count": null,
      "metadata": {
        "colab": {
          "base_uri": "https://localhost:8080/"
        },
        "id": "nFWoBWLLhMId",
        "outputId": "b677ceae-dbf3-4f7f-ecae-35e2764df2bf"
      },
      "outputs": [
        {
          "output_type": "stream",
          "name": "stdout",
          "text": [
            "True\n"
          ]
        }
      ],
      "source": [
        "#Create a function that returns True if a given inequality expression is correct and False otherwise.\n",
        "def check(s):\n",
        "    abc=eval(s)\n",
        "    if abc:\n",
        "        return True\n",
        "    else:\n",
        "      return False\n",
        "\n",
        "\n",
        "print(check(\"22 < 64 < 65\"))\n"
      ]
    },
    {
      "cell_type": "code",
      "source": [
        "#Create a function that takes three arguments a, b, c and returns the sum of the numbers that are evenly divided by c from the range a, b inclusive.\n",
        "def sumDivisibles(A, B, C):\n",
        "    sum = 0\n",
        "\n",
        "    for i in range(A, B + 1):\n",
        " \n",
        "        if (i % C == 0):\n",
        "            sum += i\n",
        " \n",
        "    return sum\n",
        "\n",
        "     \n",
        "A = int(input(\"Enter value of A =\"))\n",
        "B = int(input(\"Enter value of B =\"))\n",
        "C = int(input(\"Enter value of C =\"))\n",
        " \n",
        "print(sumDivisibles(A, B, C))"
      ],
      "metadata": {
        "colab": {
          "base_uri": "https://localhost:8080/"
        },
        "id": "-1jWDWbSi1oy",
        "outputId": "ed1b9028-aea0-4b55-9bda-ba50d41f8945"
      },
      "execution_count": null,
      "outputs": [
        {
          "output_type": "stream",
          "name": "stdout",
          "text": [
            "Enter value of A =4\n",
            "Enter value of B =3\n",
            "Enter value of C =5\n",
            "0\n"
          ]
        }
      ]
    },
    {
      "cell_type": "code",
      "source": [
        "#Create a function that replaces all the vowels in a string with a specified character.\n",
        "def replaceVowels(str, K):\n",
        "    vowels = 'AEIOUaeiou'\n",
        "    for i in vowels:\n",
        "      str = str.replace(i, K)\n",
        "    return str\n",
        "\n",
        "input = \"Aditya suryawanshi\"\n",
        "K = \"#\"\n",
        "print(\"Given String:\", input)\n",
        "print(\"Given Specified Character:\", K)\n",
        "print(\"After replacing vowels with the specified character:\", replaceVowels(input, K))"
      ],
      "metadata": {
        "id": "dAWP_Vtoi5xS",
        "outputId": "97f01f38-251e-4d6a-b03e-dced5cfcb733",
        "colab": {
          "base_uri": "https://localhost:8080/"
        }
      },
      "execution_count": null,
      "outputs": [
        {
          "output_type": "stream",
          "name": "stdout",
          "text": [
            "Given String: Aditya suryawanshi\n",
            "Given Specified Character: #\n",
            "After replacing vowels with the specified character: #d#ty# s#ry#w#nsh#\n"
          ]
        }
      ]
    },
    {
      "cell_type": "code",
      "source": [
        "#Write a function that calculates the factorial of a number recursively.\n",
        "def factorial(n): \n",
        "    if (n==1 or n==0): \n",
        "        return 1\n",
        "    else:     \n",
        "        return (n * factorial(n - 1)) \n",
        "  \n",
        "num = 33\n",
        "print(\"number : \",num)\n",
        "print(\"Factorial : \",factorial(num))"
      ],
      "metadata": {
        "id": "pGTmAJJxjCeL",
        "outputId": "c74cc85e-285c-49c8-9224-d1cd172a45bd",
        "colab": {
          "base_uri": "https://localhost:8080/"
        }
      },
      "execution_count": null,
      "outputs": [
        {
          "output_type": "stream",
          "name": "stdout",
          "text": [
            "number :  33\n",
            "Factorial :  8683317618811886495518194401280000000\n"
          ]
        }
      ]
    },
    {
      "cell_type": "code",
      "source": [
        "#Create a function that computes the hamming distance between two strings.\n",
        "def hammingDist(str1, str2):\n",
        "    i = 0\n",
        "    count = 0\n",
        " \n",
        "    while(i < len(str1)):\n",
        "        if(str1[i] != str2[i]):\n",
        "            count += 1\n",
        "        i += 1\n",
        "    return count\n",
        " \n",
        "str1 = \"strong\"\n",
        "str2 = \"strung\"\n",
        "\n",
        "print(hammingDist(str1, str2))"
      ],
      "metadata": {
        "id": "_AUrjt4sjEAT",
        "outputId": "4309935b-272c-40f6-d465-68dd7db52bdd",
        "colab": {
          "base_uri": "https://localhost:8080/"
        }
      },
      "execution_count": null,
      "outputs": [
        {
          "output_type": "stream",
          "name": "stdout",
          "text": [
            "1\n"
          ]
        }
      ]
    },
    {
      "cell_type": "code",
      "source": [
        "#Create a function that takes a list of non-negative integers and strings and return a new list without the strings.\n",
        "def filter_list(l):  \n",
        "    output = []\n",
        "    for i in l:  \n",
        "        if type(i) != str:  \n",
        "            output.append(i)  \n",
        "    return output\n",
        "\n",
        "print(filter_list([33,34,'r','g',74,6,'k']))"
      ],
      "metadata": {
        "id": "vFYvsvOnjNNz",
        "outputId": "d07cdea6-d190-4d3a-ce16-e1467accdd67",
        "colab": {
          "base_uri": "https://localhost:8080/"
        }
      },
      "execution_count": null,
      "outputs": [
        {
          "output_type": "stream",
          "name": "stdout",
          "text": [
            "[33, 34, 74, 6]\n"
          ]
        }
      ]
    },
    {
      "cell_type": "code",
      "source": [
        "#The \"Reverser\" takes a string as input and returns that string in reverse order, with the opposite case.\n",
        "def reverse(str):\n",
        "    str = str[::-1]\n",
        "    return str.swapcase()\n",
        "\n",
        "reverse('pillai college')"
      ],
      "metadata": {
        "id": "ij_KwnRgjP2D",
        "outputId": "760e1215-223e-42e4-b304-97161976560e",
        "colab": {
          "base_uri": "https://localhost:8080/",
          "height": 35
        }
      },
      "execution_count": null,
      "outputs": [
        {
          "output_type": "execute_result",
          "data": {
            "text/plain": [
              "'EGELLOC IALLIP'"
            ],
            "application/vnd.google.colaboratory.intrinsic+json": {
              "type": "string"
            }
          },
          "metadata": {},
          "execution_count": 11
        }
      ]
    },
    {
      "cell_type": "code",
      "source": [
        "#with middle being everything in between the first and last element.\n",
        "lst = [1, 2, 3, 4, 5, 6]\n",
        "lst = first, middle, last\n",
        "\n",
        "print(first)\n",
        "print(middle)\n",
        "print(last)"
      ],
      "metadata": {
        "id": "S2lIXrpwjS3y"
      },
      "execution_count": null,
      "outputs": []
    },
    {
      "cell_type": "code",
      "source": [
        "#Write a function that moves all elements of one type to the end of the list.\n",
        "def move_end(array, toMove):\n",
        "    i = 0\n",
        "    s = len(array) - 1\n",
        "    while (i < s):\n",
        "        while (i < s and array[s] == toMove):\n",
        "            s-=1\n",
        "  \n",
        "        if (array[i] == toMove):\n",
        "            array[i], array[s] = array[s] , array[i]\n",
        "        i += 1\n",
        "    return array\n",
        "\n",
        "arr = ['1', '1', '1', 'b']\n",
        "k = '1'\n",
        "ans = move_end(arr, k)\n",
        "for i in range(len(arr)):\n",
        "    print(ans[i] ,end= \" \")"
      ],
      "metadata": {
        "id": "6g7VEddUjVPq",
        "outputId": "812f4fa8-4bc3-45c9-a039-d3f0edd636b1",
        "colab": {
          "base_uri": "https://localhost:8080/"
        }
      },
      "execution_count": null,
      "outputs": [
        {
          "output_type": "stream",
          "name": "stdout",
          "text": [
            "b 1 1 1 "
          ]
        }
      ]
    },
    {
      "cell_type": "code",
      "source": [
        "#Create a function that takes a string and returns a string in which each character is repeated once.\n",
        "def double(str):\n",
        "    return ''.join([c+c for c in str])\n",
        "\n",
        "print(double('engineering'))"
      ],
      "metadata": {
        "id": "5-DJWeSljY9q",
        "outputId": "e180ccf5-bf04-4fd1-f9dd-221b76624e65",
        "colab": {
          "base_uri": "https://localhost:8080/"
        }
      },
      "execution_count": null,
      "outputs": [
        {
          "output_type": "stream",
          "name": "stdout",
          "text": [
            "eennggiinneeeerriinngg\n"
          ]
        }
      ]
    },
    {
      "cell_type": "code",
      "source": [
        "#Create a function that reverses a boolean value and returns the string \"boolean expected\" if another variable type is given.\n",
        "def reverse(arg=None):\n",
        "    return not arg if type(arg) == bool else \"boolean expected\"\n",
        "\n",
        "print(reverse(True))\n",
        "print(reverse(False))\n",
        "print(reverse(0))\n",
        "print(reverse(None))"
      ],
      "metadata": {
        "id": "Sgbi_C_6jbU7",
        "outputId": "c9ff74b5-b051-4c21-a877-91c5e3476571",
        "colab": {
          "base_uri": "https://localhost:8080/"
        }
      },
      "execution_count": null,
      "outputs": [
        {
          "output_type": "stream",
          "name": "stdout",
          "text": [
            "False\n",
            "True\n",
            "boolean expected\n",
            "boolean expected\n"
          ]
        }
      ]
    },
    {
      "cell_type": "code",
      "source": [
        "#Create a function that returns the thickness (in meters) of a piece of paper after folding it n number of times. The paper starts off with a thickness of 0.5mm.\n",
        "def layers(n):\n",
        "    thickness = 0.4\n",
        "    for _ in range(n):\n",
        "        thickness *= 3\n",
        "    return str(thickness / 1000)+'m' # for meters\n",
        "\n",
        "print(layers(1))\n",
        "print(layers(4))"
      ],
      "metadata": {
        "id": "dFMLOf4xjb67",
        "outputId": "71416c46-b97e-4460-9ceb-5e53f348d50b",
        "colab": {
          "base_uri": "https://localhost:8080/"
        }
      },
      "execution_count": null,
      "outputs": [
        {
          "output_type": "stream",
          "name": "stdout",
          "text": [
            "0.0012000000000000001m\n",
            "0.032400000000000005m\n"
          ]
        }
      ]
    },
    {
      "cell_type": "code",
      "source": [
        "#Create a function that takes a single string as argument and returns an ordered list containing the indices of all capital letters in the string\n",
        "def index_of_cap(word):\n",
        "    indices = []\n",
        "    for i in range(len(word)):\n",
        "        if word[i].isupper():\n",
        "             indices.append(i)\n",
        "    return indices\n",
        "\n",
        "print(index_of_cap('ADitya'))\n",
        "print(index_of_cap('arShaD'))\n",
        "print(index_of_cap('hAdi'))"
      ],
      "metadata": {
        "id": "pOHynNRljfnM",
        "outputId": "8ecf19bf-6baf-4099-e36e-62a6b45d3fe8",
        "colab": {
          "base_uri": "https://localhost:8080/"
        }
      },
      "execution_count": null,
      "outputs": [
        {
          "output_type": "stream",
          "name": "stdout",
          "text": [
            "[0, 1]\n",
            "[2, 5]\n",
            "[1]\n"
          ]
        }
      ]
    },
    {
      "cell_type": "code",
      "source": [
        "#Using list comprehensions, create a function that finds all even numbers from 1 to the given number.\n",
        "def find_even_no(n):\n",
        "    even =[x for x in range(2,n+1) if x % 2 == 0]\n",
        "    return even\n",
        "\n",
        "n = int(input('Enter a number : '))\n",
        "find_even_no(n)"
      ],
      "metadata": {
        "id": "z5CRpCQOmrn_"
      },
      "execution_count": null,
      "outputs": []
    },
    {
      "cell_type": "code",
      "source": [
        "#Create a function that takes a list of strings and integers, and filters out the list so that it returns a list of integers only\n",
        "def filter_list(lst):\n",
        "    intlst = []\n",
        "    for i in lst:\n",
        "        if type(i) == int:\n",
        "            intlst.append(i)\n",
        "    return intlst \n",
        "\n",
        "filter_list([1, 2, 3, 4, 5, 'a', 'g'])"
      ],
      "metadata": {
        "id": "YG7KFM4UjlXr",
        "outputId": "b0c2b675-c448-46b5-a6e1-25df70263f51",
        "colab": {
          "base_uri": "https://localhost:8080/"
        }
      },
      "execution_count": null,
      "outputs": [
        {
          "output_type": "execute_result",
          "data": {
            "text/plain": [
              "[1, 2, 3, 4, 5]"
            ]
          },
          "metadata": {},
          "execution_count": 38
        }
      ]
    },
    {
      "cell_type": "code",
      "source": [
        "#Given a list of numbers, create a function which returns the list but with each element's index in the list added to itself.\n",
        "def add_index(lst):\n",
        "    ind = 0\n",
        "    index = []\n",
        "    for i in lst:\n",
        "        index.append(lst.index(i,ind) + i)\n",
        "        ind+=1\n",
        "    return index\n",
        "\n",
        "add_index([1, 3, 4, 5, 6])"
      ],
      "metadata": {
        "id": "iP2jzMHHjm4y",
        "outputId": "39417129-ce5c-4398-f8c9-d1c301860b1b",
        "colab": {
          "base_uri": "https://localhost:8080/"
        }
      },
      "execution_count": null,
      "outputs": [
        {
          "output_type": "execute_result",
          "data": {
            "text/plain": [
              "[1, 4, 6, 8, 10]"
            ]
          },
          "metadata": {},
          "execution_count": 35
        }
      ]
    },
    {
      "cell_type": "code",
      "source": [
        "#Create a function that takes the height and radius of a cone as arguments and returns the volume of the cone rounded to the nearest hundredth\n",
        "import math\n",
        "pi = math.pi\n",
        "def cone_volume(r, h):\n",
        "    return round((1 / 3) * pi * r * r * h)\n",
        "\n",
        "radius = float(input(\"Enter value of radius= \"))\n",
        "height = float(input(\"Enter value of height= \"))\n",
        "\n",
        "print( \"Volume Of Cone : \", cone_volume(radius, height) )"
      ],
      "metadata": {
        "colab": {
          "base_uri": "https://localhost:8080/"
        },
        "outputId": "f593986d-3fbf-4cb9-feee-1354ef872d65",
        "id": "2asAzRwFmW2Z"
      },
      "execution_count": null,
      "outputs": [
        {
          "output_type": "stream",
          "name": "stdout",
          "text": [
            "Enter value of radius= 2\n",
            "Enter value of height= 5\n",
            "Volume Of Cone :  21\n"
          ]
        }
      ]
    },
    {
      "cell_type": "code",
      "source": [
        "#Write a function that gives the number of dots with its corresponding triangle number of the sequence.\n",
        "def triangle(n):\n",
        "    return n*(n+1)*0.5\n",
        "\n",
        "n = int(input('Enter the trinalge number :'))\n",
        "print(\"The {}th triangle has {} dots \".format(n,int(triangle(n))))\n",
        "\n",
        "triangle(1)"
      ],
      "metadata": {
        "colab": {
          "base_uri": "https://localhost:8080/"
        },
        "id": "9W0qS7B9juMM",
        "outputId": "92903361-ec80-42bc-90e7-dd5c03cd5d34"
      },
      "execution_count": null,
      "outputs": [
        {
          "output_type": "stream",
          "name": "stdout",
          "text": [
            "Enter the trinalge number :5\n",
            "The 5th triangle has 15 dots \n"
          ]
        },
        {
          "output_type": "execute_result",
          "data": {
            "text/plain": [
              "1.0"
            ]
          },
          "metadata": {},
          "execution_count": 4
        }
      ]
    },
    {
      "cell_type": "code",
      "source": [
        "#Create a function that takes a list of numbers between 1 and 10 (excluding one number) and returns the missing number.\n",
        "def missing_num(lst):\n",
        "    total = sum([x for x in range(11)])\n",
        "    sum_of_list = sum(lst)\n",
        "    return total - sum_of_list\n",
        "\n",
        "print(missing_num([1, 2, 3, 4, 5, 6, 8, 9, 10]))\n"
      ],
      "metadata": {
        "colab": {
          "base_uri": "https://localhost:8080/"
        },
        "id": "1asJRodyjwmD",
        "outputId": "fa579269-0325-475b-e59c-10ea4238ea09"
      },
      "execution_count": null,
      "outputs": [
        {
          "output_type": "stream",
          "name": "stdout",
          "text": [
            "7\n"
          ]
        }
      ]
    }
  ]
}