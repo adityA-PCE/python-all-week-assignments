{
  "cells": [
    {
      "cell_type": "markdown",
      "metadata": {
        "id": "view-in-github",
        "colab_type": "text"
      },
      "source": [
        "<a href=\"https://colab.research.google.com/github/adityA-PCE/python-all-week-assignments/blob/main/week_1_practice_programs.ipynb\" target=\"_parent\"><img src=\"https://colab.research.google.com/assets/colab-badge.svg\" alt=\"Open In Colab\"/></a>"
      ]
    },
    {
      "cell_type": "markdown",
      "source": [
        "#Section A"
      ],
      "metadata": {
        "id": "3tSheTJzbmA4"
      }
    },
    {
      "cell_type": "code",
      "execution_count": null,
      "metadata": {
        "colab": {
          "base_uri": "https://localhost:8080/"
        },
        "id": "X4No_SUGQdqd",
        "outputId": "694561be-e0ec-40f8-e273-5833d9c522da"
      },
      "outputs": [
        {
          "output_type": "stream",
          "name": "stdout",
          "text": [
            "Hello Python\n"
          ]
        }
      ],
      "source": [
        "#section A:Fundamentals of Python\n",
        "#1.Write a Python program to print “Hello Python”\n",
        "a=\"Hello Python\"\n",
        "print(a)"
      ]
    },
    {
      "cell_type": "code",
      "source": [
        "#2.Write a Python program to do arithmetical operations addition and division.?\n",
        "a=40\n",
        "b=10\n",
        "print(a+b)\n",
        "print(a/b)\n"
      ],
      "metadata": {
        "colab": {
          "base_uri": "https://localhost:8080/"
        },
        "id": "RajRNv8DM1sj",
        "outputId": "89c1f3dc-9fd5-47b5-edc1-192ba71bd763"
      },
      "execution_count": null,
      "outputs": [
        {
          "output_type": "stream",
          "name": "stdout",
          "text": [
            "50\n",
            "4.0\n"
          ]
        }
      ]
    },
    {
      "cell_type": "code",
      "source": [
        "#3.Write a Python program to find the area of a triangle?\n",
        "base=float(input(\"Enter a base:\"))\n",
        "height=float(input(\"Enter height:\"))\n",
        "Area=0.5*base*height\n",
        "print(\"Area of Triangle:\",Area)"
      ],
      "metadata": {
        "colab": {
          "base_uri": "https://localhost:8080/"
        },
        "id": "p45EmTToM3Vr",
        "outputId": "9e3e9055-cc5e-4682-a6fb-c5381e9119b9"
      },
      "execution_count": null,
      "outputs": [
        {
          "output_type": "stream",
          "name": "stdout",
          "text": [
            "Enter a base:30\n",
            "Enter height:40\n",
            "Area of Triangle: 600.0\n"
          ]
        }
      ]
    },
    {
      "cell_type": "code",
      "source": [
        "#4. Write a Python program to swap two variables?\n",
        "a=\"Aditya\"\n",
        "b=\"suryawanshi\"\n",
        "print(a,b)\n",
        "c=a\n",
        "a=b\n",
        "b=c\n",
        "print(a,b)"
      ],
      "metadata": {
        "colab": {
          "base_uri": "https://localhost:8080/"
        },
        "id": "mEBfv5JlM-C0",
        "outputId": "c739b798-c042-499c-f57e-4f8552839310"
      },
      "execution_count": null,
      "outputs": [
        {
          "output_type": "stream",
          "name": "stdout",
          "text": [
            "Aditya suryawanshi\n",
            "suryawanshi Aditya\n"
          ]
        }
      ]
    },
    {
      "cell_type": "code",
      "source": [
        "#5. Write a Python program to generate a random number?\n",
        "import random\n",
        "n=50\n",
        "rndom=int(n*random.random())\n",
        "print(rndom)\n"
      ],
      "metadata": {
        "colab": {
          "base_uri": "https://localhost:8080/"
        },
        "id": "ntwFggicNLQM",
        "outputId": "656e7c5c-7ed3-4a7d-b59c-29c44dce43d8"
      },
      "execution_count": null,
      "outputs": [
        {
          "output_type": "stream",
          "name": "stdout",
          "text": [
            "34\n"
          ]
        }
      ]
    },
    {
      "cell_type": "markdown",
      "source": [
        "#Section B"
      ],
      "metadata": {
        "id": "IcCifX4Kdb9l"
      }
    },
    {
      "cell_type": "code",
      "execution_count": null,
      "metadata": {
        "colab": {
          "base_uri": "https://localhost:8080/"
        },
        "id": "kYYQB9amRPNb",
        "outputId": "b2e29698-d0f0-4ced-ce4c-86c85d28b14d"
      },
      "outputs": [
        {
          "output_type": "stream",
          "name": "stdout",
          "text": [
            "Enter kilometer value:2\n",
            "2 km= 3.2 miles\n"
          ]
        }
      ],
      "source": [
        "#Section B:\n",
        "#1. Write a Python program to convert kilometers to miles?\n",
        "KM=int(input(\"Enter kilometer value:\"))\n",
        "miles=1.6*KM\n",
        "print(KM,\"km=\",miles,'miles')\n",
        "\n",
        "\n",
        "\n",
        "\n",
        "\n",
        "\n",
        "\n"
      ]
    },
    {
      "cell_type": "code",
      "source": [
        "#2. Write a Python program to convert Celsius to Fahrenheit?\n",
        "celsius=float(input(\"Enter tempreture in celsius:\"))\n",
        "fahrenheit=(celsius*9/5)+32\n",
        "print('%.2f celsiusis:%0.2f Fahrenheit'%(celsius,fahrenheit))\n"
      ],
      "metadata": {
        "colab": {
          "base_uri": "https://localhost:8080/"
        },
        "id": "EXaIjpPvOZRM",
        "outputId": "ba552d4d-48ff-4692-b2c4-3b779431ec40"
      },
      "execution_count": null,
      "outputs": [
        {
          "output_type": "stream",
          "name": "stdout",
          "text": [
            "Enter tempreture in celsius:450\n",
            "450.00 celsiusis:842.00 Fahrenheit\n"
          ]
        }
      ]
    },
    {
      "cell_type": "code",
      "source": [
        "#3. Write a Python program to display calendar?\n",
        "import calendar\n",
        "y=2022\n",
        "m=10\n",
        "print(calendar.month(y,m))\n",
        "\n"
      ],
      "metadata": {
        "colab": {
          "base_uri": "https://localhost:8080/"
        },
        "id": "c2bpGkuCOfq8",
        "outputId": "35b93940-b181-4978-cf1b-96ccdc45f444"
      },
      "execution_count": null,
      "outputs": [
        {
          "output_type": "stream",
          "name": "stdout",
          "text": [
            "    October 2022\n",
            "Mo Tu We Th Fr Sa Su\n",
            "                1  2\n",
            " 3  4  5  6  7  8  9\n",
            "10 11 12 13 14 15 16\n",
            "17 18 19 20 21 22 23\n",
            "24 25 26 27 28 29 30\n",
            "31\n",
            "\n"
          ]
        }
      ]
    },
    {
      "cell_type": "code",
      "source": [
        "#4. Write a Python program to solve quadratic equation?\n",
        "import math\n",
        "a = int(input(\"Enter the coefficients of a: \"))\n",
        "b = int(input(\"Enter the coefficients of b: \"))\n",
        "c = int(input(\"Enter the coefficients of c: \"))\n",
        "d = b**2-4*a*c \n",
        "if d < 0:\n",
        "    print (\"This equation has no real solution\")\n",
        "elif d == 0:\n",
        "    x = (-b+math.sqrt(b**2-4*a*c))/2*a\n",
        "    print (\"This equation has one solutions: \", x)\n",
        "else:\n",
        "    x1 = (-b+math.sqrt(b**2-4*a*c))/2*a\n",
        "    x2 = (-b-math.sqrt(b**2-4*a*c))/2*a\n",
        "    print (\"This equation has two solutions: \", x1, \" and\", x2)"
      ],
      "metadata": {
        "id": "_a5ZW8BUcR3m",
        "colab": {
          "base_uri": "https://localhost:8080/"
        },
        "outputId": "1e29e168-1df7-4e1a-9e9c-ecbdff2d70cd"
      },
      "execution_count": null,
      "outputs": [
        {
          "output_type": "stream",
          "name": "stdout",
          "text": [
            "Enter the coefficients of a: 2\n",
            "Enter the coefficients of b: 3\n",
            "Enter the coefficients of c: 4\n",
            "This equation has no real solution\n"
          ]
        }
      ]
    },
    {
      "cell_type": "code",
      "source": [
        "#5. Write a Python program to swap two variables without temp variable?\n",
        "a=\"Aditya\"\n",
        "b=\"suryawanshi\"\n",
        "print(a,b)\n"
      ],
      "metadata": {
        "colab": {
          "base_uri": "https://localhost:8080/"
        },
        "id": "bazGoONXOm3D",
        "outputId": "242c75da-a452-4643-d151-c4a8cf9e61ec"
      },
      "execution_count": null,
      "outputs": [
        {
          "output_type": "stream",
          "name": "stdout",
          "text": [
            "Aditya suryawanshi\n"
          ]
        }
      ]
    },
    {
      "cell_type": "code",
      "source": [],
      "metadata": {
        "id": "lpYH4TOzNWRE"
      },
      "execution_count": null,
      "outputs": []
    },
    {
      "cell_type": "markdown",
      "source": [
        "#Section C"
      ],
      "metadata": {
        "id": "NQKIfArndQYB"
      }
    },
    {
      "cell_type": "code",
      "execution_count": null,
      "metadata": {
        "colab": {
          "base_uri": "https://localhost:8080/"
        },
        "id": "NnMBoUVEYPeK",
        "outputId": "86fc417f-cf03-4771-e4c4-0f4682ed2f01"
      },
      "outputs": [
        {
          "output_type": "stream",
          "name": "stdout",
          "text": [
            "enter the number:0\n",
            "number is zero\n"
          ]
        }
      ],
      "source": [
        "#Section C:\n",
        "#1. Write a Python Program to Check if a Number is Positive, Negative or Zero?\n",
        "a=int(input(\"enter the number:\"))\n",
        "if a>0:\n",
        "  print(\"number is positive\")\n",
        "if a<0:\n",
        "    print(\"number is negative\")\n",
        "else:\n",
        "      print(\"number is zero\") \n",
        "\n",
        "    "
      ]
    },
    {
      "cell_type": "code",
      "source": [
        "#2. Write a Python Program to Check if a Number is Odd or Even?\n",
        "a=int(input(\"enter the number:\"))\n",
        "if (a%2)==0:\n",
        "  print(\"number is even\")\n",
        "else:\n",
        "  print(\"number is odd\")\n"
      ],
      "metadata": {
        "colab": {
          "base_uri": "https://localhost:8080/"
        },
        "id": "NPthOi5mcX-S",
        "outputId": "174ead36-6c80-485b-b4f3-f0e468e2f7f8"
      },
      "execution_count": null,
      "outputs": [
        {
          "output_type": "stream",
          "name": "stdout",
          "text": [
            "enter the number:18\n",
            "number is even\n"
          ]
        }
      ]
    },
    {
      "cell_type": "code",
      "source": [
        "#3. Write a Python Program to Check Leap Year?\n",
        "Year=int(input(\"enter the year:\"))    \n",
        "if((Year % 400 == 0) or  \n",
        "     (Year % 100 != 0) and  \n",
        "     (Year % 4 == 0)):   \n",
        "    print(\"given Year is a leap Year\")\n",
        "else:\n",
        "   print(\"given year is not leap year\")"
      ],
      "metadata": {
        "colab": {
          "base_uri": "https://localhost:8080/"
        },
        "id": "Dg1VNtuIccKz",
        "outputId": "737ba7b6-e471-461b-e379-5095a53d5a78"
      },
      "execution_count": null,
      "outputs": [
        {
          "output_type": "stream",
          "name": "stdout",
          "text": [
            "enter the year:2008\n",
            "given Year is a leap Year\n"
          ]
        }
      ]
    },
    {
      "cell_type": "code",
      "source": [
        "#4. Write a Python Program to Check Prime Number?\n",
        "num =int(input(\"enter the number:\"))\n",
        "if num > 1:\n",
        "    for i in range(2, int(num/2)+1):\n",
        "        if (num % i) == 0:\n",
        "            print(num, \"is not a prime number\")\n",
        "            break\n",
        "    else:\n",
        "        print(num, \"is a prime number\")\n",
        "else:\n",
        "    print(num, \"is not a prime number\") "
      ],
      "metadata": {
        "colab": {
          "base_uri": "https://localhost:8080/"
        },
        "id": "-_jLRllpcjDB",
        "outputId": "0d01f7cb-57a2-46a1-a5b5-bd2d72d74e6d"
      },
      "execution_count": null,
      "outputs": [
        {
          "output_type": "stream",
          "name": "stdout",
          "text": [
            "enter the number:4\n",
            "4 is not a prime number\n"
          ]
        }
      ]
    },
    {
      "cell_type": "code",
      "source": [
        "#5. Write a Python Program to Print all Prime Numbers in an Interval of 1-10000?\n",
        "lower = 1\n",
        "upper = 10000\n",
        "print(\"Prime numbers between\", lower, \"and\", upper, \"are:\")\n",
        "for num in range(lower, upper + 1):\n",
        "   if num > 1:\n",
        "       for i in range(2, num):\n",
        "           if (num % i) == 0:\n",
        "               break\n",
        "       else:\n",
        "           print(num)      "
      ],
      "metadata": {
        "id": "H5A2QK_ic_J-"
      },
      "execution_count": null,
      "outputs": []
    },
    {
      "cell_type": "markdown",
      "source": [
        "#Section D"
      ],
      "metadata": {
        "id": "EGoQ2_4be0Qh"
      }
    },
    {
      "cell_type": "code",
      "execution_count": null,
      "metadata": {
        "id": "TRb_nKwaXB3I",
        "colab": {
          "base_uri": "https://localhost:8080/"
        },
        "outputId": "cdba8e0f-c12a-43ca-bf28-d2de177c5d98"
      },
      "outputs": [
        {
          "output_type": "stream",
          "name": "stdout",
          "text": [
            "enter the number:10\n",
            "The factorial of 10 is 3628800\n"
          ]
        }
      ],
      "source": [
        "#Section D:\n",
        "#1. Write a Python Program to Find the Factorial of a Number?\n",
        "num=int(input(\"enter the number:\"))\n",
        "factorial=1\n",
        "if num < 0:\n",
        "   print(\"Sorry, factorial does not exist for negative numbers\")\n",
        "elif num == 0:\n",
        "   print(\"The factorial of 0 is 1\")\n",
        "else:\n",
        "   for i in range(1,num + 1):\n",
        "       factorial = factorial*i\n",
        "   print(\"The factorial of\",num,\"is\",factorial)"
      ]
    },
    {
      "cell_type": "code",
      "source": [
        "#2. Write a Python Program to Display the multiplication Table?\n",
        "num=int(input(\"enter the number:\"))\n",
        "for i in range(1, 11):\n",
        "   print(num, 'x', i, '=', num*i)"
      ],
      "metadata": {
        "colab": {
          "base_uri": "https://localhost:8080/"
        },
        "id": "B0nfSyXMfGJf",
        "outputId": "0d811b94-378e-47dc-b5f6-02e8eb06bb26"
      },
      "execution_count": null,
      "outputs": [
        {
          "output_type": "stream",
          "name": "stdout",
          "text": [
            "enter the number:10\n",
            "10 x 1 = 10\n",
            "10 x 2 = 20\n",
            "10 x 3 = 30\n",
            "10 x 4 = 40\n",
            "10 x 5 = 50\n",
            "10 x 6 = 60\n",
            "10 x 7 = 70\n",
            "10 x 8 = 80\n",
            "10 x 9 = 90\n",
            "10 x 10 = 100\n"
          ]
        }
      ]
    },
    {
      "cell_type": "code",
      "source": [
        "#3. Write a Python Program to Print the Fibonacci sequence?\n",
        "terms=int(input(\"How mant terms the user want to print:\"))\n",
        "\n",
        "#First two terms\n",
        "n_1=0\n",
        "n_2=1\n",
        "count=0\n",
        "\n",
        "if terms<=0:\n",
        "  print(\"Please enter apositive interger,the given number is not valid\")\n",
        "\n",
        "elif terms==1:\n",
        "  print(\"The Fibonacci sequence of numbers up to\",terms,\": \")\n",
        "  print(n_1)\n",
        "\n",
        "else:\n",
        "  print(\"The Fibonacci sequence of numbers is:\")\n",
        "  while count < terms:\n",
        "    print(n_1)\n",
        "    nth =n_1+n_2\n",
        "\n",
        "    n_1=n_2\n",
        "    n_2=nth\n",
        "    count=count+1\n",
        "\n"
      ],
      "metadata": {
        "id": "U8lX_koafoRI",
        "colab": {
          "base_uri": "https://localhost:8080/"
        },
        "outputId": "3833353e-7027-4179-b564-80885291d759"
      },
      "execution_count": null,
      "outputs": [
        {
          "output_type": "stream",
          "name": "stdout",
          "text": [
            "How mant terms the user want to print:10\n",
            "The Fibonacci sequence of numbers is:\n",
            "0\n",
            "1\n",
            "1\n",
            "2\n",
            "3\n",
            "5\n",
            "8\n",
            "13\n",
            "21\n",
            "34\n"
          ]
        }
      ]
    },
    {
      "cell_type": "code",
      "source": [
        "#4. Write a Python Program to Check Armstrong Number?\n",
        "num = int(input(\"Enter a number: \"))\n",
        "sum = 0\n",
        "code = num\n",
        "while code > 0:\n",
        "   digit = code % 10\n",
        "   sum += digit ** 3\n",
        "   code //= 10\n",
        "if num == sum:\n",
        "   print(num,\"is an Armstrong number\")\n",
        "else:\n",
        "   print(num,\"is not an Armstrong number\")"
      ],
      "metadata": {
        "colab": {
          "base_uri": "https://localhost:8080/"
        },
        "id": "Wp5wyCD5h4OD",
        "outputId": "7c382218-0a8f-44a4-8565-eef217ac60c9"
      },
      "execution_count": null,
      "outputs": [
        {
          "output_type": "stream",
          "name": "stdout",
          "text": [
            "Enter a number: 153\n",
            "153 is an Armstrong number\n"
          ]
        }
      ]
    },
    {
      "cell_type": "code",
      "source": [
        "#5. Write a Python Program to Find Armstrong Number in an Interval?\n",
        "lower=int(input(\"Enter lower range:\"))\n",
        "upper=int(input(\"Enter upper range:\"))\n",
        "\n",
        "for i in range(lower,upper+1):\n",
        "  sum=0\n",
        "  num=i\n",
        "  while(i!=0):\n",
        "    digit=i%10\n",
        "    sum=sum+(digit*digit*digit)\n",
        "    i=i//10\n",
        "  if sum==num:\n",
        "    print(num)\n"
      ],
      "metadata": {
        "id": "oAvS5DxHg70e",
        "colab": {
          "base_uri": "https://localhost:8080/"
        },
        "outputId": "71cbd2b5-6032-4dee-f10a-4258d9cc5fdb"
      },
      "execution_count": null,
      "outputs": [
        {
          "output_type": "stream",
          "name": "stdout",
          "text": [
            "Enter lower range:1\n",
            "Enter upper range:500\n",
            "1\n",
            "153\n",
            "370\n",
            "371\n",
            "407\n"
          ]
        }
      ]
    },
    {
      "cell_type": "code",
      "source": [
        "#6. Write a Python Program to Find the Sum of Natural Numbers?\n",
        "num=int(input(\"enter the number:\"))\n",
        "if num < 0:\n",
        "   print(\"Enter a positive number\")\n",
        "else:\n",
        "   sum = 0\n",
        "   while(num > 0):\n",
        "       sum += num\n",
        "       num -= 1\n",
        "   print(\"The sum is\", sum)"
      ],
      "metadata": {
        "colab": {
          "base_uri": "https://localhost:8080/"
        },
        "id": "onZ_zj4uhpo_",
        "outputId": "926da48c-2eef-4270-da96-5c454152606d"
      },
      "execution_count": null,
      "outputs": [
        {
          "output_type": "stream",
          "name": "stdout",
          "text": [
            "enter the number:10\n",
            "The sum is 55\n"
          ]
        }
      ]
    },
    {
      "cell_type": "markdown",
      "source": [
        "#Section E"
      ],
      "metadata": {
        "id": "iYlOEIvXklUO"
      }
    },
    {
      "cell_type": "code",
      "source": [
        "#1. Write a Python Program to find sum of array\n",
        "arr = []\n",
        "arr = [12, 10, 10, 20]\n",
        "ans = sum(arr)\n",
        "print('Sum of the array is: ', ans)"
      ],
      "metadata": {
        "colab": {
          "base_uri": "https://localhost:8080/"
        },
        "id": "D1vx2ah2kq6b",
        "outputId": "47f0c781-3bb8-48da-d6f7-2ba021c84dae"
      },
      "execution_count": null,
      "outputs": [
        {
          "output_type": "stream",
          "name": "stdout",
          "text": [
            "Sum of the array is:  52\n"
          ]
        }
      ]
    },
    {
      "cell_type": "code",
      "source": [
        "#2. Write a Python Program to find largest element in an array\n",
        "\n",
        "def largest(arr, n):\n",
        "    max = arr[0]\n",
        "    for i in range(1, n):\n",
        "        if arr[i] > max:\n",
        "            max = arr[i]\n",
        "    return max\n",
        "\n",
        "arr = [10, 30, 50, 80, 100]\n",
        "n = len(arr)\n",
        "Ans = largest(arr, n)\n",
        "print(\"Largest in given array: \", Ans)"
      ],
      "metadata": {
        "id": "94oOBRnHm2GU",
        "colab": {
          "base_uri": "https://localhost:8080/"
        },
        "outputId": "45e8e98c-1138-444a-c1af-60a7eb6a0958"
      },
      "execution_count": null,
      "outputs": [
        {
          "output_type": "stream",
          "name": "stdout",
          "text": [
            "Largest in given array:  100\n"
          ]
        }
      ]
    },
    {
      "cell_type": "code",
      "source": [
        "#3. Write a Python Program for array rotation?\n",
        "def rotateArray(arr, n, d):\n",
        "    temp = []\n",
        "    i = 0\n",
        "    while (i < d):\n",
        "        temp.append(arr[i])\n",
        "        i = i + 1\n",
        "    i = 0\n",
        "    while (d < n):\n",
        "        arr[i] = arr[d]\n",
        "        i = i + 1\n",
        "        d = d + 1\n",
        "    arr[:] = arr[: i] + temp\n",
        "    return arr\n",
        "arr = [10, 20, 30, 40, 50]\n",
        "print(\"Array after left rotation is: \", end=' ')\n",
        "print(rotateArray(arr, len(arr), 2))"
      ],
      "metadata": {
        "id": "dG8elL7Lm7hV",
        "colab": {
          "base_uri": "https://localhost:8080/"
        },
        "outputId": "2e9e444b-838a-4872-aefe-6763e648c477"
      },
      "execution_count": null,
      "outputs": [
        {
          "output_type": "stream",
          "name": "stdout",
          "text": [
            "Array after left rotation is:  [30, 40, 50, 10, 20]\n"
          ]
        }
      ]
    },
    {
      "cell_type": "code",
      "source": [
        "#4. Write a Python Program to Split the array and add the first part to the end?\n",
        "def splitArr(arr, n, k): \n",
        "    for i in range(0, k): \n",
        "        x = arr[0]\n",
        "        for j in range(0, n-1):\n",
        "            arr[j] = arr[j + 1]\n",
        "          \n",
        "        arr[n-1] = x\n",
        "arr = [10, 20, 30, 40, 50]\n",
        "n = len(arr)\n",
        "position = 2\n",
        "  \n",
        "splitArr(arr, n, position)\n",
        "  \n",
        "for i in range(0, n): \n",
        "    print(arr[i], end = ' ')"
      ],
      "metadata": {
        "id": "H3Da4uJUm_x4",
        "colab": {
          "base_uri": "https://localhost:8080/"
        },
        "outputId": "83e49885-709d-4079-a69f-d71e81dbb134"
      },
      "execution_count": null,
      "outputs": [
        {
          "output_type": "stream",
          "name": "stdout",
          "text": [
            "30 40 50 10 20 "
          ]
        }
      ]
    },
    {
      "cell_type": "code",
      "source": [
        "#5. Write a Python Program to check if given array is Monotonic?\n",
        "def isMonotonic(A):\n",
        "  \n",
        "    return (all(A[i] <= A[i + 1] for i in range(len(A) - 1)) or\n",
        "            all(A[i] >= A[i + 1] for i in range(len(A) - 1)))\n",
        "A = [10, 20, 30, 30]\n",
        "print(isMonotonic(A))\n",
        "  "
      ],
      "metadata": {
        "id": "UOpYQPYinFid",
        "colab": {
          "base_uri": "https://localhost:8080/"
        },
        "outputId": "3c93020b-508d-4c6b-cdbe-e12bc132853e"
      },
      "execution_count": null,
      "outputs": [
        {
          "output_type": "stream",
          "name": "stdout",
          "text": [
            "True\n"
          ]
        }
      ]
    },
    {
      "cell_type": "markdown",
      "source": [
        "#SECTION F"
      ],
      "metadata": {
        "id": "rrkfm0AwQ7os"
      }
    },
    {
      "cell_type": "code",
      "source": [
        "#1. Write a Python program to find sum of elements in list?\n",
        "a=[10,20,30,40,50]\n",
        "sum(a)"
      ],
      "metadata": {
        "colab": {
          "base_uri": "https://localhost:8080/"
        },
        "id": "MU2r5-ygQyJN",
        "outputId": "44a77bd7-746d-4d90-c01a-8c75bef3edb4"
      },
      "execution_count": null,
      "outputs": [
        {
          "output_type": "execute_result",
          "data": {
            "text/plain": [
              "150"
            ]
          },
          "metadata": {},
          "execution_count": 21
        }
      ]
    },
    {
      "cell_type": "code",
      "source": [
        "#2. Write a Python program to Multiply all numbers in the list\n",
        "def mul_list(list) :\n",
        "    product = 1\n",
        "    for i in list:\n",
        "         product = product * i\n",
        "    return product\n",
        "list1 = [10, 22, 15, 14]\n",
        "print(list1)\n",
        "print(\"product: \") \n",
        "print(mul_list(list1))\n",
        "\n"
      ],
      "metadata": {
        "id": "CQKXMHOaRnUs",
        "colab": {
          "base_uri": "https://localhost:8080/"
        },
        "outputId": "86677060-a721-4cd3-d699-74bf243f156d"
      },
      "execution_count": null,
      "outputs": [
        {
          "output_type": "stream",
          "name": "stdout",
          "text": [
            "[10, 22, 15, 14]\n",
            "product: \n",
            "46200\n"
          ]
        }
      ]
    },
    {
      "cell_type": "code",
      "source": [
        "#3. Write a Python program to find smallest number in a list?\n",
        "list = [10, 20, 30, 45,40, 9]\n",
        "list.sort()\n",
        "print(\"Smallest number is:\", *list[:1])"
      ],
      "metadata": {
        "colab": {
          "base_uri": "https://localhost:8080/"
        },
        "id": "8vG4nSQJT2VE",
        "outputId": "fe7f9b61-c5f8-4365-dc8e-1a72f4b5dbb4"
      },
      "execution_count": null,
      "outputs": [
        {
          "output_type": "stream",
          "name": "stdout",
          "text": [
            "Smallest number is: 9\n"
          ]
        }
      ]
    },
    {
      "cell_type": "code",
      "source": [
        "#4. Write a Python program to find largest number in a list?\n",
        "list = [10, 15, 14, 40, 90]\n",
        "list.sort()\n",
        "print(\"Largest number is:\", list[-1])"
      ],
      "metadata": {
        "colab": {
          "base_uri": "https://localhost:8080/"
        },
        "id": "Cdcaz0mKT2TI",
        "outputId": "b7733dfc-8f02-4748-ee70-31f0eaadab86"
      },
      "execution_count": null,
      "outputs": [
        {
          "output_type": "stream",
          "name": "stdout",
          "text": [
            "Largest number is: 90\n"
          ]
        }
      ]
    },
    {
      "cell_type": "code",
      "source": [
        "#5. Write a Python program to find second largest number in a list?\n",
        "list1 = [10, 20, 30, 40, 50] \n",
        "mx = max(list1[0], list1[1])\n",
        "secondmax = min(list1[0], list1[1])\n",
        "n = len(list1)\n",
        "for i in range(2,n):\n",
        "    if list1[i] > mx:\n",
        "        secondmax = mx\n",
        "        mx = list1[i]\n",
        "    elif list1[i] > secondmax and \\\n",
        "        mx != list1[i]:\n",
        "        secondmax = list1[i]\n",
        "    elif mx == secondmax and \\\n",
        "        secondmax != list1[i]:\n",
        "          secondmax = list1[i]\n",
        " \n",
        "print(\"Second largest number is : \",\\\n",
        "      str(secondmax))\n"
      ],
      "metadata": {
        "id": "MzHwHLBaUU2e",
        "colab": {
          "base_uri": "https://localhost:8080/"
        },
        "outputId": "af3ba7ae-c25b-4bdd-dd77-a56e2874394a"
      },
      "execution_count": null,
      "outputs": [
        {
          "output_type": "stream",
          "name": "stdout",
          "text": [
            "Second largest number is :  40\n"
          ]
        }
      ]
    },
    {
      "cell_type": "code",
      "source": [
        "#6. Write a Python program to find N largest elements from a list?\n",
        "def Nmaxelements(list1, N):\n",
        "    final_list = [] \n",
        "    for i in range(0, N):\n",
        "        max1 = 0         \n",
        "        for j in range(len(list1)):    \n",
        "            if list1[j] > max1:\n",
        "                max1 = list1[j];\n",
        "                 \n",
        "        list1.remove(max1);\n",
        "        final_list.append(max1)\n",
        "         \n",
        "    print(final_list)\n",
        " \n",
        "list1 = [10, 20, 30, 40, 50, 60, 70, 80, 90, ]\n",
        "N = 4\n",
        "Nmaxelements(list1, N)\n"
      ],
      "metadata": {
        "id": "bTElKIwfUU1M",
        "colab": {
          "base_uri": "https://localhost:8080/"
        },
        "outputId": "07b8373b-eee1-4c4f-ae75-e22de0356432"
      },
      "execution_count": null,
      "outputs": [
        {
          "output_type": "stream",
          "name": "stdout",
          "text": [
            "[90, 80, 70, 60]\n"
          ]
        }
      ]
    },
    {
      "cell_type": "code",
      "source": [
        "#7. Write a Python program to print even numbers in a list?\n",
        "list1 = [44, 21, 88, 86, 42, 98]\n",
        "for num in list1:\n",
        "    if num % 2 == 0:\n",
        "        print(num, end=\" \")"
      ],
      "metadata": {
        "id": "-d93DLZ4ZGan",
        "colab": {
          "base_uri": "https://localhost:8080/"
        },
        "outputId": "91c59dd1-f3cc-49ee-859b-63a36e61538c"
      },
      "execution_count": null,
      "outputs": [
        {
          "output_type": "stream",
          "name": "stdout",
          "text": [
            "44 88 86 42 98 "
          ]
        }
      ]
    },
    {
      "cell_type": "code",
      "source": [
        "#8. Write a Python program to print odd numbers in a List?\n",
        "list1 = [10, 11,71, 74, 37, 85]\n",
        "for num in list1:\n",
        "    if num % 2 != 0:\n",
        "       print(num, end = \" \")"
      ],
      "metadata": {
        "id": "c4slQdG0ZGZf",
        "colab": {
          "base_uri": "https://localhost:8080/"
        },
        "outputId": "45647919-02ec-4bfe-a744-cfcb002e8821"
      },
      "execution_count": null,
      "outputs": [
        {
          "output_type": "stream",
          "name": "stdout",
          "text": [
            "11 71 37 85 "
          ]
        }
      ]
    },
    {
      "cell_type": "code",
      "source": [
        "#9. Write a Python program to Remove empty List from List?\n",
        "list1 = [10, 20, 30, [], [], 60]\n",
        "print(\"The original list is : \" + str(list1))\n",
        "res = [ele for ele in list1 if ele != []]\n",
        "print(\"List after empty list removal : \" + str(res))\n"
      ],
      "metadata": {
        "id": "aEPoEJXOZST-",
        "colab": {
          "base_uri": "https://localhost:8080/"
        },
        "outputId": "1f4231d1-221b-43da-de53-ad40dfb93b11"
      },
      "execution_count": null,
      "outputs": [
        {
          "output_type": "stream",
          "name": "stdout",
          "text": [
            "The original list is : [10, 20, 30, [], [], 60]\n",
            "List after empty list removal : [10, 20, 30, 60]\n"
          ]
        }
      ]
    },
    {
      "cell_type": "code",
      "source": [
        "#10. Write a Python program to Cloning or Copying a list?\n",
        "def Cloning(list1):\n",
        "    li_copy = list1[:]\n",
        "    return li_copy\n",
        "list1 = [10, 29, 86, 83, 64, 44]\n",
        "list2 = Cloning(list1)\n",
        "print(\"Original List:\", list1)\n",
        "print(\"After Cloning:\", list2)"
      ],
      "metadata": {
        "id": "34kdaqrSZX8J",
        "colab": {
          "base_uri": "https://localhost:8080/"
        },
        "outputId": "480bc5ed-a488-4ebe-fc78-7ef421728a25"
      },
      "execution_count": null,
      "outputs": [
        {
          "output_type": "stream",
          "name": "stdout",
          "text": [
            "Original List: [10, 29, 86, 83, 64, 44]\n",
            "After Cloning: [10, 29, 86, 83, 64, 44]\n"
          ]
        }
      ]
    },
    {
      "cell_type": "code",
      "source": [
        "#11. Write a Python program to Count occurrences of an element in a list?\n",
        "def countX(lst, x):\n",
        "    count = 0\n",
        "    for ele in lst:\n",
        "        if (ele == x):\n",
        "            count = count + 1\n",
        "    return count\n",
        "lst = [10, 20, 33, 10, 33, 20, 33, 50, 60]\n",
        "x = 33\n",
        "print('{} has occurred {} times'.format(x,\n",
        "                                        countX(lst, x)))"
      ],
      "metadata": {
        "id": "Rjlxm5IBZX7b",
        "colab": {
          "base_uri": "https://localhost:8080/"
        },
        "outputId": "7e0bf7e7-3338-470f-a3f3-1d0c91d659e0"
      },
      "execution_count": null,
      "outputs": [
        {
          "output_type": "stream",
          "name": "stdout",
          "text": [
            "33 has occurred 3 times\n"
          ]
        }
      ]
    }
  ],
  "metadata": {
    "colab": {
      "provenance": [],
      "collapsed_sections": [],
      "include_colab_link": true
    },
    "kernelspec": {
      "display_name": "Python 3",
      "name": "python3"
    },
    "language_info": {
      "name": "python"
    }
  },
  "nbformat": 4,
  "nbformat_minor": 0
}